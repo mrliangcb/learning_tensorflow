{
 "cells": [
  {
   "cell_type": "code",
   "execution_count": 39,
   "metadata": {},
   "outputs": [],
   "source": [
    "import tensorflow as tf\n",
    "import numpy as np"
   ]
  },
  {
   "cell_type": "code",
   "execution_count": 40,
   "metadata": {},
   "outputs": [
    {
     "name": "stdout",
     "output_type": "stream",
     "text": [
      "<tf.Variable 'counter_7:0' shape=() dtype=int32_ref>\n",
      "counter_7:0\n"
     ]
    }
   ],
   "source": [
    "a=tf.Variable(0,name='counter')\n",
    "print(a)\n",
    "print(a.name)\n"
   ]
  },
  {
   "cell_type": "code",
   "execution_count": 41,
   "metadata": {},
   "outputs": [
    {
     "name": "stdout",
     "output_type": "stream",
     "text": [
      "Tensor(\"Const_4:0\", shape=(), dtype=int32)\n"
     ]
    }
   ],
   "source": [
    "b=tf.constant(1)\n",
    "print(b)"
   ]
  },
  {
   "cell_type": "code",
   "execution_count": 42,
   "metadata": {},
   "outputs": [],
   "source": [
    "d=tf.Variable(np.ones(shape=(2,3)),dtype=tf.float32,name='weights')\n",
    "e=tf.constant('Hello, TensorFlow!')\n"
   ]
  },
  {
   "cell_type": "code",
   "execution_count": 43,
   "metadata": {},
   "outputs": [],
   "source": [
    "c=a+b"
   ]
  },
  {
   "cell_type": "code",
   "execution_count": 44,
   "metadata": {},
   "outputs": [
    {
     "name": "stdout",
     "output_type": "stream",
     "text": [
      "0\n",
      "[[1. 1. 1.]\n",
      " [1. 1. 1.]]\n"
     ]
    }
   ],
   "source": [
    "init=tf.initialize_all_variables()\n",
    "global_init=tf.global_variables_initializer()\n",
    "saver=tf.train.Saver()#会话之前定义\n",
    "with tf.Session() as sess:\n",
    "    sess.run(global_init)\n",
    "    sess.run(init)\n",
    "    print(sess.run(a))#1+0=1\n",
    "    print(sess.run(d))"
   ]
  },
  {
   "cell_type": "code",
   "execution_count": 46,
   "metadata": {},
   "outputs": [
    {
     "name": "stdout",
     "output_type": "stream",
     "text": [
      "Multiplication with variables: 6\n",
      "加法结果:5\n"
     ]
    }
   ],
   "source": [
    "#定义图\n",
    "#placeholder作为图的输入,op中，op运算的类型有：1、可以输入的placeholder类型  2、定义的参数类型variable和constant\n",
    "x1 = tf.placeholder(tf.int16)\n",
    "x2 = tf.placeholder(tf.int16)\n",
    "\n",
    "#定义了图op\n",
    "add = tf.add(x1, x2)\n",
    "mul = tf.multiply(x1, x2)\n",
    "\n",
    "#运行图\n",
    "with tf.Session() as sess:\n",
    "    # Run every operation with variable input\n",
    "    print(\"Multiplication with variables: %i\" % sess.run(mul, feed_dict={x1: 2, x2: 3}))\n",
    "    print('加法结果:{}'.format( sess.run(add, feed_dict={x1: 2, x2: 3}) ))\n"
   ]
  },
  {
   "cell_type": "code",
   "execution_count": 59,
   "metadata": {},
   "outputs": [
    {
     "name": "stdout",
     "output_type": "stream",
     "text": [
      "[[2.]\n",
      " [2.]]\n",
      "[[12.]]\n"
     ]
    }
   ],
   "source": [
    "#常量图\n",
    "matrix1 = tf.constant([[3., 3.]])#默认ditype=32\n",
    "matrix2 = tf.constant(np.array([[2],[2]],dtype=np.float32))   #tf的是tf.float32,np的是np.float32\n",
    "\n",
    "#op\n",
    "product = tf.matmul(matrix1, matrix2)#二维矩阵乘法，横乘以竖\n",
    "with tf.Session() as sess:#这里constant不用初始化，变量variable才要\n",
    "    result = sess.run(product)\n",
    "    print(sess.run(matrix2))\n",
    "    print(result)\n",
    "\n",
    "\n",
    "\n"
   ]
  },
  {
   "cell_type": "code",
   "execution_count": null,
   "metadata": {},
   "outputs": [],
   "source": []
  }
 ],
 "metadata": {
  "kernelspec": {
   "display_name": "Python 3",
   "language": "python",
   "name": "python3"
  },
  "language_info": {
   "codemirror_mode": {
    "name": "ipython",
    "version": 3
   },
   "file_extension": ".py",
   "mimetype": "text/x-python",
   "name": "python",
   "nbconvert_exporter": "python",
   "pygments_lexer": "ipython3",
   "version": "3.6.7"
  }
 },
 "nbformat": 4,
 "nbformat_minor": 2
}
